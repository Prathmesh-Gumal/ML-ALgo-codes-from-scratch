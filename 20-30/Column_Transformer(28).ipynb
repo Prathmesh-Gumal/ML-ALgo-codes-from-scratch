{
 "cells": [
  {
   "cell_type": "code",
   "execution_count": 1,
   "metadata": {
    "executionInfo": {
     "elapsed": 4,
     "status": "ok",
     "timestamp": 1741336070558,
     "user": {
      "displayName": "Prathmesh Gumal",
      "userId": "02913441102213852222"
     },
     "user_tz": -330
    },
    "id": "-LUU1tvFiXgE"
   },
   "outputs": [],
   "source": [
    "import numpy as np\n",
    "import pandas as pd"
   ]
  },
  {
   "cell_type": "code",
   "execution_count": 2,
   "metadata": {
    "executionInfo": {
     "elapsed": 1286,
     "status": "ok",
     "timestamp": 1741336073024,
     "user": {
      "displayName": "Prathmesh Gumal",
      "userId": "02913441102213852222"
     },
     "user_tz": -330
    },
    "id": "TG-w6Cg0imZ0"
   },
   "outputs": [],
   "source": [
    "from sklearn.impute import SimpleImputer\n",
    "from sklearn.preprocessing import OneHotEncoder\n",
    "from sklearn.preprocessing import OrdinalEncoder"
   ]
  },
  {
   "cell_type": "code",
   "execution_count": 3,
   "metadata": {
    "executionInfo": {
     "elapsed": 13,
     "status": "ok",
     "timestamp": 1741336073025,
     "user": {
      "displayName": "Prathmesh Gumal",
      "userId": "02913441102213852222"
     },
     "user_tz": -330
    },
    "id": "8obiClf-iwDo"
   },
   "outputs": [],
   "source": [
    "df = pd.read_csv(\"D:\\\\Machine Learning\\\\ml algorithms self written code\\\\20-30\\\\covid_toy.csv\")"
   ]
  },
  {
   "cell_type": "code",
   "execution_count": 4,
   "metadata": {
    "colab": {
     "base_uri": "https://localhost:8080/",
     "height": 206
    },
    "executionInfo": {
     "elapsed": 9,
     "status": "ok",
     "timestamp": 1741336104059,
     "user": {
      "displayName": "Prathmesh Gumal",
      "userId": "02913441102213852222"
     },
     "user_tz": -330
    },
    "id": "DL6W5YF5jOXW",
    "outputId": "306a3ab4-a3bc-4b83-e19f-69ca7c4abab4"
   },
   "outputs": [
    {
     "data": {
      "text/html": [
       "<div>\n",
       "<style scoped>\n",
       "    .dataframe tbody tr th:only-of-type {\n",
       "        vertical-align: middle;\n",
       "    }\n",
       "\n",
       "    .dataframe tbody tr th {\n",
       "        vertical-align: top;\n",
       "    }\n",
       "\n",
       "    .dataframe thead th {\n",
       "        text-align: right;\n",
       "    }\n",
       "</style>\n",
       "<table border=\"1\" class=\"dataframe\">\n",
       "  <thead>\n",
       "    <tr style=\"text-align: right;\">\n",
       "      <th></th>\n",
       "      <th>age</th>\n",
       "      <th>gender</th>\n",
       "      <th>fever</th>\n",
       "      <th>cough</th>\n",
       "      <th>city</th>\n",
       "      <th>has_covid</th>\n",
       "    </tr>\n",
       "  </thead>\n",
       "  <tbody>\n",
       "    <tr>\n",
       "      <th>29</th>\n",
       "      <td>34</td>\n",
       "      <td>Female</td>\n",
       "      <td>NaN</td>\n",
       "      <td>Strong</td>\n",
       "      <td>Mumbai</td>\n",
       "      <td>Yes</td>\n",
       "    </tr>\n",
       "    <tr>\n",
       "      <th>9</th>\n",
       "      <td>64</td>\n",
       "      <td>Female</td>\n",
       "      <td>101.0</td>\n",
       "      <td>Mild</td>\n",
       "      <td>Delhi</td>\n",
       "      <td>No</td>\n",
       "    </tr>\n",
       "    <tr>\n",
       "      <th>56</th>\n",
       "      <td>71</td>\n",
       "      <td>Male</td>\n",
       "      <td>NaN</td>\n",
       "      <td>Strong</td>\n",
       "      <td>Kolkata</td>\n",
       "      <td>No</td>\n",
       "    </tr>\n",
       "    <tr>\n",
       "      <th>93</th>\n",
       "      <td>27</td>\n",
       "      <td>Male</td>\n",
       "      <td>100.0</td>\n",
       "      <td>Mild</td>\n",
       "      <td>Kolkata</td>\n",
       "      <td>Yes</td>\n",
       "    </tr>\n",
       "    <tr>\n",
       "      <th>24</th>\n",
       "      <td>13</td>\n",
       "      <td>Female</td>\n",
       "      <td>100.0</td>\n",
       "      <td>Strong</td>\n",
       "      <td>Kolkata</td>\n",
       "      <td>No</td>\n",
       "    </tr>\n",
       "  </tbody>\n",
       "</table>\n",
       "</div>"
      ],
      "text/plain": [
       "    age  gender  fever   cough     city has_covid\n",
       "29   34  Female    NaN  Strong   Mumbai       Yes\n",
       "9    64  Female  101.0    Mild    Delhi        No\n",
       "56   71    Male    NaN  Strong  Kolkata        No\n",
       "93   27    Male  100.0    Mild  Kolkata       Yes\n",
       "24   13  Female  100.0  Strong  Kolkata        No"
      ]
     },
     "execution_count": 4,
     "metadata": {},
     "output_type": "execute_result"
    }
   ],
   "source": [
    "df.sample(5)"
   ]
  },
  {
   "cell_type": "code",
   "execution_count": 5,
   "metadata": {
    "colab": {
     "base_uri": "https://localhost:8080/",
     "height": 178
    },
    "executionInfo": {
     "elapsed": 484,
     "status": "ok",
     "timestamp": 1741336107110,
     "user": {
      "displayName": "Prathmesh Gumal",
      "userId": "02913441102213852222"
     },
     "user_tz": -330
    },
    "id": "J2dVOl-GjRFm",
    "outputId": "0a551ce0-2c03-48f4-a529-277964c7f29c"
   },
   "outputs": [
    {
     "data": {
      "text/plain": [
       "cough\n",
       "Mild      62\n",
       "Strong    38\n",
       "Name: count, dtype: int64"
      ]
     },
     "execution_count": 5,
     "metadata": {},
     "output_type": "execute_result"
    }
   ],
   "source": [
    "df['cough'].value_counts()"
   ]
  },
  {
   "cell_type": "code",
   "execution_count": 6,
   "metadata": {
    "colab": {
     "base_uri": "https://localhost:8080/",
     "height": 272
    },
    "executionInfo": {
     "elapsed": 11,
     "status": "ok",
     "timestamp": 1741336199851,
     "user": {
      "displayName": "Prathmesh Gumal",
      "userId": "02913441102213852222"
     },
     "user_tz": -330
    },
    "id": "iMGFc15YuCOp",
    "outputId": "87aec679-7c0c-4871-b60e-abf32661e6f3"
   },
   "outputs": [
    {
     "data": {
      "text/plain": [
       "age           0\n",
       "gender        0\n",
       "fever        10\n",
       "cough         0\n",
       "city          0\n",
       "has_covid     0\n",
       "dtype: int64"
      ]
     },
     "execution_count": 6,
     "metadata": {},
     "output_type": "execute_result"
    }
   ],
   "source": [
    "df.isnull().sum()"
   ]
  },
  {
   "cell_type": "code",
   "execution_count": 7,
   "metadata": {
    "executionInfo": {
     "elapsed": 381,
     "status": "ok",
     "timestamp": 1741336268122,
     "user": {
      "displayName": "Prathmesh Gumal",
      "userId": "02913441102213852222"
     },
     "user_tz": -330
    },
    "id": "fTEWHeuWub1K"
   },
   "outputs": [],
   "source": [
    "from sklearn.model_selection import train_test_split\n",
    "X_train,X_test,y_train,y_test = train_test_split(df.drop(columns=['has_covid']),df['has_covid'],\n",
    "                                                test_size=0.2)\n"
   ]
  },
  {
   "cell_type": "markdown",
   "metadata": {
    "id": "aRTLh34vvvEz"
   },
   "source": [
    "Trsnsformations without usig Sklearn's Column Transformer"
   ]
  },
  {
   "cell_type": "code",
   "execution_count": 8,
   "metadata": {
    "colab": {
     "base_uri": "https://localhost:8080/"
    },
    "executionInfo": {
     "elapsed": 6,
     "status": "ok",
     "timestamp": 1741337085391,
     "user": {
      "displayName": "Prathmesh Gumal",
      "userId": "02913441102213852222"
     },
     "user_tz": -330
    },
    "id": "7l2GwdA4v3Vd",
    "outputId": "5c1ccf54-7ad2-413a-dd3a-0c3b7e8046d5"
   },
   "outputs": [
    {
     "data": {
      "text/plain": [
       "(80, 1)"
      ]
     },
     "execution_count": 8,
     "metadata": {},
     "output_type": "execute_result"
    }
   ],
   "source": [
    "# will first impute values to the fever colimn as it has NaN Values.\n",
    "si = SimpleImputer()\n",
    "X_train_fever = si.fit_transform(X_train[['fever']])\n",
    "\n",
    "# also the test data\n",
    "X_test_fever = si.fit_transform(X_test[['fever']])\n",
    "X_train_fever.shape"
   ]
  },
  {
   "cell_type": "code",
   "execution_count": 9,
   "metadata": {
    "colab": {
     "base_uri": "https://localhost:8080/"
    },
    "executionInfo": {
     "elapsed": 810,
     "status": "ok",
     "timestamp": 1741337377423,
     "user": {
      "displayName": "Prathmesh Gumal",
      "userId": "02913441102213852222"
     },
     "user_tz": -330
    },
    "id": "HxZjgDOZxmqG",
    "outputId": "e9acc7fe-c2fd-455c-8c53-64ac235a0eb0"
   },
   "outputs": [
    {
     "data": {
      "text/plain": [
       "(80, 1)"
      ]
     },
     "execution_count": 9,
     "metadata": {},
     "output_type": "execute_result"
    }
   ],
   "source": [
    "# ordinal encoding of cough Column\n",
    "oe = OrdinalEncoder(categories=[['Mild','Strong']])\n",
    "X_train_cough = oe.fit_transform(X_train[['cough']])\n",
    "\n",
    "# sldo test data\n",
    "X_test_cough = oe.fit_transform(X_test[['cough']])\n",
    "\n",
    "X_train_cough.shape"
   ]
  },
  {
   "cell_type": "code",
   "execution_count": 10,
   "metadata": {
    "colab": {
     "base_uri": "https://localhost:8080/"
    },
    "executionInfo": {
     "elapsed": 5,
     "status": "ok",
     "timestamp": 1741337378763,
     "user": {
      "displayName": "Prathmesh Gumal",
      "userId": "02913441102213852222"
     },
     "user_tz": -330
    },
    "id": "c3KZ7oR1yDkI",
    "outputId": "ec4e2feb-f921-4385-c208-833f4255d804"
   },
   "outputs": [
    {
     "data": {
      "text/plain": [
       "(80, 4)"
      ]
     },
     "execution_count": 10,
     "metadata": {},
     "output_type": "execute_result"
    }
   ],
   "source": [
    "# OneHotEncoding on Gender and city\n",
    "ohe = OneHotEncoder(drop='first', sparse_output=False) # Changed 'sparse' to 'sparse_output'\n",
    "X_train_gender_city = ohe.fit_transform(X_train[['gender','city']])\n",
    "\n",
    "#also the test data\n",
    "X_test_gender_city = ohe.fit_transform(X_test[['gender','city']])\n",
    "\n",
    "X_train_gender_city.shape"
   ]
  },
  {
   "cell_type": "code",
   "execution_count": 11,
   "metadata": {
    "colab": {
     "base_uri": "https://localhost:8080/"
    },
    "executionInfo": {
     "elapsed": 10,
     "status": "ok",
     "timestamp": 1741337454347,
     "user": {
      "displayName": "Prathmesh Gumal",
      "userId": "02913441102213852222"
     },
     "user_tz": -330
    },
    "id": "YaO7YMtmynZe",
    "outputId": "5f900d05-9550-4585-b46e-3696fdbd157c"
   },
   "outputs": [
    {
     "data": {
      "text/plain": [
       "(80, 1)"
      ]
     },
     "execution_count": 11,
     "metadata": {},
     "output_type": "execute_result"
    }
   ],
   "source": [
    "# Extracting the Age\n",
    "X_train_age = X_train.drop(columns=['gender','fever','cough','city']).values\n",
    "\n",
    "# also the test data\n",
    "X_test_age = X_test.drop(columns=['gender','fever','cough','city']).values\n",
    "\n",
    "X_train_age.shape"
   ]
  },
  {
   "cell_type": "code",
   "execution_count": 12,
   "metadata": {
    "colab": {
     "base_uri": "https://localhost:8080/"
    },
    "executionInfo": {
     "elapsed": 5,
     "status": "ok",
     "timestamp": 1741337831500,
     "user": {
      "displayName": "Prathmesh Gumal",
      "userId": "02913441102213852222"
     },
     "user_tz": -330
    },
    "id": "qVhUoD0zzOFm",
    "outputId": "61c8e0ee-dfdf-46fa-ed95-4e950c5c8c81"
   },
   "outputs": [
    {
     "data": {
      "text/plain": [
       "(80, 7)"
      ]
     },
     "execution_count": 12,
     "metadata": {},
     "output_type": "execute_result"
    }
   ],
   "source": [
    "X_train_transformed = np.concatenate((X_train_age,X_train_fever,X_train_gender_city,X_train_cough),axis=1)\n",
    "# also test data\n",
    "\n",
    "X_test_transformed = np.concatenate((X_test_age,X_test_fever,X_test_gender_city,X_test_cough),axis=1)\n",
    "\n",
    "X_train_transformed.shape"
   ]
  },
  {
   "cell_type": "markdown",
   "metadata": {
    "id": "00gQzsnG0ta8"
   },
   "source": [
    "Doing all the above things using Sklearn Column Transformer.\n"
   ]
  },
  {
   "cell_type": "code",
   "execution_count": 13,
   "metadata": {
    "executionInfo": {
     "elapsed": 388,
     "status": "ok",
     "timestamp": 1741337924793,
     "user": {
      "displayName": "Prathmesh Gumal",
      "userId": "02913441102213852222"
     },
     "user_tz": -330
    },
    "id": "TyDaYnj10y5t"
   },
   "outputs": [],
   "source": [
    "from sklearn.compose import ColumnTransformer"
   ]
  },
  {
   "cell_type": "code",
   "execution_count": 14,
   "metadata": {
    "executionInfo": {
     "elapsed": 617,
     "status": "ok",
     "timestamp": 1741338031867,
     "user": {
      "displayName": "Prathmesh Gumal",
      "userId": "02913441102213852222"
     },
     "user_tz": -330
    },
    "id": "QuixI-uc1A8U"
   },
   "outputs": [],
   "source": [
    "transformer = ColumnTransformer(transformers=[\n",
    "    ('tnf1',SimpleImputer(),['fever']),\n",
    "    ('tnf2',OrdinalEncoder(categories=[['Mild','Strong']]),['cough']),\n",
    "    ('tnf3',OneHotEncoder(sparse_output=False,drop='first'),['gender','city'])\n",
    "],remainder='passthrough')"
   ]
  },
  {
   "cell_type": "code",
   "execution_count": 15,
   "metadata": {
    "colab": {
     "base_uri": "https://localhost:8080/"
    },
    "executionInfo": {
     "elapsed": 725,
     "status": "ok",
     "timestamp": 1741338152087,
     "user": {
      "displayName": "Prathmesh Gumal",
      "userId": "02913441102213852222"
     },
     "user_tz": -330
    },
    "id": "SRAXySGO1mdG",
    "outputId": "9f26380d-e2aa-4c16-abb7-577113dc17a5"
   },
   "outputs": [
    {
     "data": {
      "text/plain": [
       "(80, 7)"
      ]
     },
     "execution_count": 15,
     "metadata": {},
     "output_type": "execute_result"
    }
   ],
   "source": [
    "transformer.fit_transform(X_train).shape"
   ]
  },
  {
   "cell_type": "code",
   "execution_count": 16,
   "metadata": {
    "colab": {
     "base_uri": "https://localhost:8080/"
    },
    "executionInfo": {
     "elapsed": 620,
     "status": "ok",
     "timestamp": 1741338175430,
     "user": {
      "displayName": "Prathmesh Gumal",
      "userId": "02913441102213852222"
     },
     "user_tz": -330
    },
    "id": "JVdgfwPG1u48",
    "outputId": "bb0b0b67-b31b-4a16-f1be-c2be4e692e73"
   },
   "outputs": [
    {
     "data": {
      "text/plain": [
       "(20, 7)"
      ]
     },
     "execution_count": 16,
     "metadata": {},
     "output_type": "execute_result"
    }
   ],
   "source": [
    "transformer.transform(X_test).shape"
   ]
  },
  {
   "cell_type": "code",
   "execution_count": null,
   "metadata": {
    "id": "NcQwrrRP1-BP"
   },
   "outputs": [],
   "source": []
  }
 ],
 "metadata": {
  "colab": {
   "authorship_tag": "ABX9TyMO4geQ+/R0Zs3N8dR4OEZE",
   "provenance": []
  },
  "kernelspec": {
   "display_name": "Python 3",
   "name": "python3"
  },
  "language_info": {
   "codemirror_mode": {
    "name": "ipython",
    "version": 3
   },
   "file_extension": ".py",
   "mimetype": "text/x-python",
   "name": "python",
   "nbconvert_exporter": "python",
   "pygments_lexer": "ipython3",
   "version": "3.13.3"
  }
 },
 "nbformat": 4,
 "nbformat_minor": 0
}
