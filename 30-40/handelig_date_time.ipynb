{
 "cells": [
  {
   "cell_type": "code",
   "execution_count": 1,
   "metadata": {
    "executionInfo": {
     "elapsed": 2,
     "status": "ok",
     "timestamp": 1741615829362,
     "user": {
      "displayName": "Prathmesh Gumal",
      "userId": "02913441102213852222"
     },
     "user_tz": -330
    },
    "id": "Fi7Zz1o2T9zH"
   },
   "outputs": [],
   "source": [
    "import numpy as np\n",
    "import pandas as pd\n",
    "import datetime"
   ]
  },
  {
   "cell_type": "code",
   "execution_count": 2,
   "metadata": {
    "executionInfo": {
     "elapsed": 2,
     "status": "ok",
     "timestamp": 1741614645046,
     "user": {
      "displayName": "Prathmesh Gumal",
      "userId": "02913441102213852222"
     },
     "user_tz": -330
    },
    "id": "012XCnLmUdvi"
   },
   "outputs": [],
   "source": [
    "date = pd.read_csv(\"D:\\\\Machine Learning\\\\ml algorithms self written code\\\\30-40\\\\orders.csv\")\n",
    "time = pd.read_csv(\"D:\\\\Machine Learning\\\\ml algorithms self written code\\\\30-40\\\\messages.csv\")"
   ]
  },
  {
   "cell_type": "code",
   "execution_count": 3,
   "metadata": {
    "colab": {
     "base_uri": "https://localhost:8080/",
     "height": 206
    },
    "executionInfo": {
     "elapsed": 10,
     "status": "ok",
     "timestamp": 1741614649584,
     "user": {
      "displayName": "Prathmesh Gumal",
      "userId": "02913441102213852222"
     },
     "user_tz": -330
    },
    "id": "UHsaIg6iUnrZ",
    "outputId": "54e0d487-e18d-4032-f39e-333dea2203de"
   },
   "outputs": [
    {
     "data": {
      "text/html": [
       "<div>\n",
       "<style scoped>\n",
       "    .dataframe tbody tr th:only-of-type {\n",
       "        vertical-align: middle;\n",
       "    }\n",
       "\n",
       "    .dataframe tbody tr th {\n",
       "        vertical-align: top;\n",
       "    }\n",
       "\n",
       "    .dataframe thead th {\n",
       "        text-align: right;\n",
       "    }\n",
       "</style>\n",
       "<table border=\"1\" class=\"dataframe\">\n",
       "  <thead>\n",
       "    <tr style=\"text-align: right;\">\n",
       "      <th></th>\n",
       "      <th>date</th>\n",
       "      <th>product_id</th>\n",
       "      <th>city_id</th>\n",
       "      <th>orders</th>\n",
       "    </tr>\n",
       "  </thead>\n",
       "  <tbody>\n",
       "    <tr>\n",
       "      <th>0</th>\n",
       "      <td>2019-12-10</td>\n",
       "      <td>5628</td>\n",
       "      <td>25</td>\n",
       "      <td>3</td>\n",
       "    </tr>\n",
       "    <tr>\n",
       "      <th>1</th>\n",
       "      <td>2018-08-15</td>\n",
       "      <td>3646</td>\n",
       "      <td>14</td>\n",
       "      <td>157</td>\n",
       "    </tr>\n",
       "    <tr>\n",
       "      <th>2</th>\n",
       "      <td>2018-10-23</td>\n",
       "      <td>1859</td>\n",
       "      <td>25</td>\n",
       "      <td>1</td>\n",
       "    </tr>\n",
       "    <tr>\n",
       "      <th>3</th>\n",
       "      <td>2019-08-17</td>\n",
       "      <td>7292</td>\n",
       "      <td>25</td>\n",
       "      <td>1</td>\n",
       "    </tr>\n",
       "    <tr>\n",
       "      <th>4</th>\n",
       "      <td>2019-01-06</td>\n",
       "      <td>4344</td>\n",
       "      <td>25</td>\n",
       "      <td>3</td>\n",
       "    </tr>\n",
       "  </tbody>\n",
       "</table>\n",
       "</div>"
      ],
      "text/plain": [
       "         date  product_id  city_id  orders\n",
       "0  2019-12-10        5628       25       3\n",
       "1  2018-08-15        3646       14     157\n",
       "2  2018-10-23        1859       25       1\n",
       "3  2019-08-17        7292       25       1\n",
       "4  2019-01-06        4344       25       3"
      ]
     },
     "execution_count": 3,
     "metadata": {},
     "output_type": "execute_result"
    }
   ],
   "source": [
    "date.head()"
   ]
  },
  {
   "cell_type": "code",
   "execution_count": 4,
   "metadata": {
    "colab": {
     "base_uri": "https://localhost:8080/",
     "height": 206
    },
    "executionInfo": {
     "elapsed": 6,
     "status": "ok",
     "timestamp": 1741614695452,
     "user": {
      "displayName": "Prathmesh Gumal",
      "userId": "02913441102213852222"
     },
     "user_tz": -330
    },
    "id": "-y3GKsl2UoxU",
    "outputId": "823613e4-7988-4701-a106-8378ebfe54fa"
   },
   "outputs": [
    {
     "data": {
      "text/html": [
       "<div>\n",
       "<style scoped>\n",
       "    .dataframe tbody tr th:only-of-type {\n",
       "        vertical-align: middle;\n",
       "    }\n",
       "\n",
       "    .dataframe tbody tr th {\n",
       "        vertical-align: top;\n",
       "    }\n",
       "\n",
       "    .dataframe thead th {\n",
       "        text-align: right;\n",
       "    }\n",
       "</style>\n",
       "<table border=\"1\" class=\"dataframe\">\n",
       "  <thead>\n",
       "    <tr style=\"text-align: right;\">\n",
       "      <th></th>\n",
       "      <th>date</th>\n",
       "      <th>msg</th>\n",
       "    </tr>\n",
       "  </thead>\n",
       "  <tbody>\n",
       "    <tr>\n",
       "      <th>0</th>\n",
       "      <td>2013-12-15 00:50:00</td>\n",
       "      <td>ищу на сегодня мужика 37</td>\n",
       "    </tr>\n",
       "    <tr>\n",
       "      <th>1</th>\n",
       "      <td>2014-04-29 23:40:00</td>\n",
       "      <td>ПАРЕНЬ БИ ИЩЕТ ДРУГА СЕЙЧАС!! СМС ММС 0955532826</td>\n",
       "    </tr>\n",
       "    <tr>\n",
       "      <th>2</th>\n",
       "      <td>2012-12-30 00:21:00</td>\n",
       "      <td>Днепр.м 43 позн.с д/ж *.о  067.16.34.576</td>\n",
       "    </tr>\n",
       "    <tr>\n",
       "      <th>3</th>\n",
       "      <td>2014-11-28 00:31:00</td>\n",
       "      <td>КИЕВ ИЩУ Д/Ж ДО 45 МНЕ СЕЙЧАС СКУЧНО 093 629 9...</td>\n",
       "    </tr>\n",
       "    <tr>\n",
       "      <th>4</th>\n",
       "      <td>2013-10-26 23:11:00</td>\n",
       "      <td>Зая я тебя никогда не обижу  люблю тебя!)  Даше</td>\n",
       "    </tr>\n",
       "  </tbody>\n",
       "</table>\n",
       "</div>"
      ],
      "text/plain": [
       "                  date                                                msg\n",
       "0  2013-12-15 00:50:00                           ищу на сегодня мужика 37\n",
       "1  2014-04-29 23:40:00   ПАРЕНЬ БИ ИЩЕТ ДРУГА СЕЙЧАС!! СМС ММС 0955532826\n",
       "2  2012-12-30 00:21:00           Днепр.м 43 позн.с д/ж *.о  067.16.34.576\n",
       "3  2014-11-28 00:31:00  КИЕВ ИЩУ Д/Ж ДО 45 МНЕ СЕЙЧАС СКУЧНО 093 629 9...\n",
       "4  2013-10-26 23:11:00    Зая я тебя никогда не обижу  люблю тебя!)  Даше"
      ]
     },
     "execution_count": 4,
     "metadata": {},
     "output_type": "execute_result"
    }
   ],
   "source": [
    "time.head(5)"
   ]
  },
  {
   "cell_type": "code",
   "execution_count": 5,
   "metadata": {
    "colab": {
     "base_uri": "https://localhost:8080/"
    },
    "executionInfo": {
     "elapsed": 7,
     "status": "ok",
     "timestamp": 1741614706078,
     "user": {
      "displayName": "Prathmesh Gumal",
      "userId": "02913441102213852222"
     },
     "user_tz": -330
    },
    "id": "kTNYyyMrUz-I",
    "outputId": "5bb99eaa-ef9c-4527-d94a-69324889d845"
   },
   "outputs": [
    {
     "name": "stdout",
     "output_type": "stream",
     "text": [
      "<class 'pandas.core.frame.DataFrame'>\n",
      "RangeIndex: 1000 entries, 0 to 999\n",
      "Data columns (total 4 columns):\n",
      " #   Column      Non-Null Count  Dtype \n",
      "---  ------      --------------  ----- \n",
      " 0   date        1000 non-null   object\n",
      " 1   product_id  1000 non-null   int64 \n",
      " 2   city_id     1000 non-null   int64 \n",
      " 3   orders      1000 non-null   int64 \n",
      "dtypes: int64(3), object(1)\n",
      "memory usage: 31.4+ KB\n"
     ]
    }
   ],
   "source": [
    "date.info()"
   ]
  },
  {
   "cell_type": "code",
   "execution_count": 6,
   "metadata": {
    "colab": {
     "base_uri": "https://localhost:8080/"
    },
    "executionInfo": {
     "elapsed": 4,
     "status": "ok",
     "timestamp": 1741614772472,
     "user": {
      "displayName": "Prathmesh Gumal",
      "userId": "02913441102213852222"
     },
     "user_tz": -330
    },
    "id": "D7DP2cZIU2kR",
    "outputId": "8683d28f-d3c5-42df-fd35-42546b6c0db8"
   },
   "outputs": [
    {
     "name": "stdout",
     "output_type": "stream",
     "text": [
      "<class 'pandas.core.frame.DataFrame'>\n",
      "RangeIndex: 1000 entries, 0 to 999\n",
      "Data columns (total 2 columns):\n",
      " #   Column  Non-Null Count  Dtype \n",
      "---  ------  --------------  ----- \n",
      " 0   date    1000 non-null   object\n",
      " 1   msg     1000 non-null   object\n",
      "dtypes: object(2)\n",
      "memory usage: 15.8+ KB\n"
     ]
    }
   ],
   "source": [
    " time.info()"
   ]
  },
  {
   "cell_type": "markdown",
   "metadata": {
    "id": "HC17hE58VLkX"
   },
   "source": [
    "Working with Dates\n"
   ]
  },
  {
   "cell_type": "code",
   "execution_count": 7,
   "metadata": {
    "executionInfo": {
     "elapsed": 3,
     "status": "ok",
     "timestamp": 1741614835777,
     "user": {
      "displayName": "Prathmesh Gumal",
      "userId": "02913441102213852222"
     },
     "user_tz": -330
    },
    "id": "JNm3zI-eVN79"
   },
   "outputs": [],
   "source": [
    "# converting to datetime datatype\n",
    "date['date'] = pd.to_datetime(date['date'])"
   ]
  },
  {
   "cell_type": "code",
   "execution_count": 8,
   "metadata": {
    "colab": {
     "base_uri": "https://localhost:8080/"
    },
    "executionInfo": {
     "elapsed": 5,
     "status": "ok",
     "timestamp": 1741614852387,
     "user": {
      "displayName": "Prathmesh Gumal",
      "userId": "02913441102213852222"
     },
     "user_tz": -330
    },
    "id": "ho7fAGnpVWU1",
    "outputId": "d8aa5bc1-34e7-42c6-ba5f-e44c01f28bbc"
   },
   "outputs": [
    {
     "name": "stdout",
     "output_type": "stream",
     "text": [
      "<class 'pandas.core.frame.DataFrame'>\n",
      "RangeIndex: 1000 entries, 0 to 999\n",
      "Data columns (total 4 columns):\n",
      " #   Column      Non-Null Count  Dtype         \n",
      "---  ------      --------------  -----         \n",
      " 0   date        1000 non-null   datetime64[ns]\n",
      " 1   product_id  1000 non-null   int64         \n",
      " 2   city_id     1000 non-null   int64         \n",
      " 3   orders      1000 non-null   int64         \n",
      "dtypes: datetime64[ns](1), int64(3)\n",
      "memory usage: 31.4 KB\n"
     ]
    }
   ],
   "source": [
    "date.info()"
   ]
  },
  {
   "cell_type": "code",
   "execution_count": 9,
   "metadata": {
    "executionInfo": {
     "elapsed": 3,
     "status": "ok",
     "timestamp": 1741614919447,
     "user": {
      "displayName": "Prathmesh Gumal",
      "userId": "02913441102213852222"
     },
     "user_tz": -330
    },
    "id": "X8SK7dUCVaN9"
   },
   "outputs": [],
   "source": [
    " # extracting year from a date\n",
    " date['date_year'] = date['date'].dt.year"
   ]
  },
  {
   "cell_type": "code",
   "execution_count": 10,
   "metadata": {
    "colab": {
     "base_uri": "https://localhost:8080/",
     "height": 206
    },
    "executionInfo": {
     "elapsed": 5,
     "status": "ok",
     "timestamp": 1741614962279,
     "user": {
      "displayName": "Prathmesh Gumal",
      "userId": "02913441102213852222"
     },
     "user_tz": -330
    },
    "id": "aynsELrnVqpH",
    "outputId": "4f315d09-3259-4994-f28a-3cbb6b24d3d2"
   },
   "outputs": [
    {
     "data": {
      "text/html": [
       "<div>\n",
       "<style scoped>\n",
       "    .dataframe tbody tr th:only-of-type {\n",
       "        vertical-align: middle;\n",
       "    }\n",
       "\n",
       "    .dataframe tbody tr th {\n",
       "        vertical-align: top;\n",
       "    }\n",
       "\n",
       "    .dataframe thead th {\n",
       "        text-align: right;\n",
       "    }\n",
       "</style>\n",
       "<table border=\"1\" class=\"dataframe\">\n",
       "  <thead>\n",
       "    <tr style=\"text-align: right;\">\n",
       "      <th></th>\n",
       "      <th>date</th>\n",
       "      <th>product_id</th>\n",
       "      <th>city_id</th>\n",
       "      <th>orders</th>\n",
       "      <th>date_year</th>\n",
       "    </tr>\n",
       "  </thead>\n",
       "  <tbody>\n",
       "    <tr>\n",
       "      <th>735</th>\n",
       "      <td>2018-12-20</td>\n",
       "      <td>1445</td>\n",
       "      <td>9</td>\n",
       "      <td>60</td>\n",
       "      <td>2018</td>\n",
       "    </tr>\n",
       "    <tr>\n",
       "      <th>520</th>\n",
       "      <td>2019-04-03</td>\n",
       "      <td>4921</td>\n",
       "      <td>24</td>\n",
       "      <td>2</td>\n",
       "      <td>2019</td>\n",
       "    </tr>\n",
       "    <tr>\n",
       "      <th>607</th>\n",
       "      <td>2019-05-27</td>\n",
       "      <td>3685</td>\n",
       "      <td>0</td>\n",
       "      <td>1</td>\n",
       "      <td>2019</td>\n",
       "    </tr>\n",
       "    <tr>\n",
       "      <th>569</th>\n",
       "      <td>2019-02-18</td>\n",
       "      <td>5795</td>\n",
       "      <td>14</td>\n",
       "      <td>4</td>\n",
       "      <td>2019</td>\n",
       "    </tr>\n",
       "    <tr>\n",
       "      <th>862</th>\n",
       "      <td>2018-11-03</td>\n",
       "      <td>1404</td>\n",
       "      <td>21</td>\n",
       "      <td>1</td>\n",
       "      <td>2018</td>\n",
       "    </tr>\n",
       "  </tbody>\n",
       "</table>\n",
       "</div>"
      ],
      "text/plain": [
       "          date  product_id  city_id  orders  date_year\n",
       "735 2018-12-20        1445        9      60       2018\n",
       "520 2019-04-03        4921       24       2       2019\n",
       "607 2019-05-27        3685        0       1       2019\n",
       "569 2019-02-18        5795       14       4       2019\n",
       "862 2018-11-03        1404       21       1       2018"
      ]
     },
     "execution_count": 10,
     "metadata": {},
     "output_type": "execute_result"
    }
   ],
   "source": [
    "date.sample(5)\n"
   ]
  },
  {
   "cell_type": "code",
   "execution_count": 11,
   "metadata": {
    "colab": {
     "base_uri": "https://localhost:8080/",
     "height": 206
    },
    "executionInfo": {
     "elapsed": 6,
     "status": "ok",
     "timestamp": 1741615005188,
     "user": {
      "displayName": "Prathmesh Gumal",
      "userId": "02913441102213852222"
     },
     "user_tz": -330
    },
    "id": "uCO74mt9V1IM",
    "outputId": "52d3b5d6-520c-4eb1-dc14-2da8bb233ceb"
   },
   "outputs": [
    {
     "data": {
      "text/html": [
       "<div>\n",
       "<style scoped>\n",
       "    .dataframe tbody tr th:only-of-type {\n",
       "        vertical-align: middle;\n",
       "    }\n",
       "\n",
       "    .dataframe tbody tr th {\n",
       "        vertical-align: top;\n",
       "    }\n",
       "\n",
       "    .dataframe thead th {\n",
       "        text-align: right;\n",
       "    }\n",
       "</style>\n",
       "<table border=\"1\" class=\"dataframe\">\n",
       "  <thead>\n",
       "    <tr style=\"text-align: right;\">\n",
       "      <th></th>\n",
       "      <th>date</th>\n",
       "      <th>product_id</th>\n",
       "      <th>city_id</th>\n",
       "      <th>orders</th>\n",
       "      <th>date_year</th>\n",
       "      <th>date_month_no</th>\n",
       "    </tr>\n",
       "  </thead>\n",
       "  <tbody>\n",
       "    <tr>\n",
       "      <th>0</th>\n",
       "      <td>2019-12-10</td>\n",
       "      <td>5628</td>\n",
       "      <td>25</td>\n",
       "      <td>3</td>\n",
       "      <td>2019</td>\n",
       "      <td>12</td>\n",
       "    </tr>\n",
       "    <tr>\n",
       "      <th>1</th>\n",
       "      <td>2018-08-15</td>\n",
       "      <td>3646</td>\n",
       "      <td>14</td>\n",
       "      <td>157</td>\n",
       "      <td>2018</td>\n",
       "      <td>8</td>\n",
       "    </tr>\n",
       "    <tr>\n",
       "      <th>2</th>\n",
       "      <td>2018-10-23</td>\n",
       "      <td>1859</td>\n",
       "      <td>25</td>\n",
       "      <td>1</td>\n",
       "      <td>2018</td>\n",
       "      <td>10</td>\n",
       "    </tr>\n",
       "    <tr>\n",
       "      <th>3</th>\n",
       "      <td>2019-08-17</td>\n",
       "      <td>7292</td>\n",
       "      <td>25</td>\n",
       "      <td>1</td>\n",
       "      <td>2019</td>\n",
       "      <td>8</td>\n",
       "    </tr>\n",
       "    <tr>\n",
       "      <th>4</th>\n",
       "      <td>2019-01-06</td>\n",
       "      <td>4344</td>\n",
       "      <td>25</td>\n",
       "      <td>3</td>\n",
       "      <td>2019</td>\n",
       "      <td>1</td>\n",
       "    </tr>\n",
       "  </tbody>\n",
       "</table>\n",
       "</div>"
      ],
      "text/plain": [
       "        date  product_id  city_id  orders  date_year  date_month_no\n",
       "0 2019-12-10        5628       25       3       2019             12\n",
       "1 2018-08-15        3646       14     157       2018              8\n",
       "2 2018-10-23        1859       25       1       2018             10\n",
       "3 2019-08-17        7292       25       1       2019              8\n",
       "4 2019-01-06        4344       25       3       2019              1"
      ]
     },
     "execution_count": 11,
     "metadata": {},
     "output_type": "execute_result"
    }
   ],
   "source": [
    "# extracting month number.\n",
    "date['date_month_no'] = date['date'].dt.month\n",
    "date.head()"
   ]
  },
  {
   "cell_type": "code",
   "execution_count": 12,
   "metadata": {
    "colab": {
     "base_uri": "https://localhost:8080/",
     "height": 313
    },
    "executionInfo": {
     "elapsed": 8,
     "status": "ok",
     "timestamp": 1741615172483,
     "user": {
      "displayName": "Prathmesh Gumal",
      "userId": "02913441102213852222"
     },
     "user_tz": -330
    },
    "id": "T895yIGuV8tk",
    "outputId": "409774f0-9c2e-4072-cb75-59cb996943a2"
   },
   "outputs": [
    {
     "data": {
      "text/html": [
       "<div>\n",
       "<style scoped>\n",
       "    .dataframe tbody tr th:only-of-type {\n",
       "        vertical-align: middle;\n",
       "    }\n",
       "\n",
       "    .dataframe tbody tr th {\n",
       "        vertical-align: top;\n",
       "    }\n",
       "\n",
       "    .dataframe thead th {\n",
       "        text-align: right;\n",
       "    }\n",
       "</style>\n",
       "<table border=\"1\" class=\"dataframe\">\n",
       "  <thead>\n",
       "    <tr style=\"text-align: right;\">\n",
       "      <th></th>\n",
       "      <th>date</th>\n",
       "      <th>product_id</th>\n",
       "      <th>city_id</th>\n",
       "      <th>orders</th>\n",
       "      <th>date_year</th>\n",
       "      <th>date_month_no</th>\n",
       "      <th>date_month_name</th>\n",
       "    </tr>\n",
       "  </thead>\n",
       "  <tbody>\n",
       "    <tr>\n",
       "      <th>0</th>\n",
       "      <td>2019-12-10</td>\n",
       "      <td>5628</td>\n",
       "      <td>25</td>\n",
       "      <td>3</td>\n",
       "      <td>2019</td>\n",
       "      <td>12</td>\n",
       "      <td>December</td>\n",
       "    </tr>\n",
       "    <tr>\n",
       "      <th>1</th>\n",
       "      <td>2018-08-15</td>\n",
       "      <td>3646</td>\n",
       "      <td>14</td>\n",
       "      <td>157</td>\n",
       "      <td>2018</td>\n",
       "      <td>8</td>\n",
       "      <td>August</td>\n",
       "    </tr>\n",
       "    <tr>\n",
       "      <th>2</th>\n",
       "      <td>2018-10-23</td>\n",
       "      <td>1859</td>\n",
       "      <td>25</td>\n",
       "      <td>1</td>\n",
       "      <td>2018</td>\n",
       "      <td>10</td>\n",
       "      <td>October</td>\n",
       "    </tr>\n",
       "    <tr>\n",
       "      <th>3</th>\n",
       "      <td>2019-08-17</td>\n",
       "      <td>7292</td>\n",
       "      <td>25</td>\n",
       "      <td>1</td>\n",
       "      <td>2019</td>\n",
       "      <td>8</td>\n",
       "      <td>August</td>\n",
       "    </tr>\n",
       "    <tr>\n",
       "      <th>4</th>\n",
       "      <td>2019-01-06</td>\n",
       "      <td>4344</td>\n",
       "      <td>25</td>\n",
       "      <td>3</td>\n",
       "      <td>2019</td>\n",
       "      <td>1</td>\n",
       "      <td>January</td>\n",
       "    </tr>\n",
       "  </tbody>\n",
       "</table>\n",
       "</div>"
      ],
      "text/plain": [
       "        date  product_id  city_id  orders  date_year  date_month_no  \\\n",
       "0 2019-12-10        5628       25       3       2019             12   \n",
       "1 2018-08-15        3646       14     157       2018              8   \n",
       "2 2018-10-23        1859       25       1       2018             10   \n",
       "3 2019-08-17        7292       25       1       2019              8   \n",
       "4 2019-01-06        4344       25       3       2019              1   \n",
       "\n",
       "  date_month_name  \n",
       "0        December  \n",
       "1          August  \n",
       "2         October  \n",
       "3          August  \n",
       "4         January  "
      ]
     },
     "execution_count": 12,
     "metadata": {},
     "output_type": "execute_result"
    }
   ],
   "source": [
    "# extracting month name.\n",
    "date['date_month_name'] = date['date'].dt.month_name()\n",
    "date.head()"
   ]
  },
  {
   "cell_type": "code",
   "execution_count": 13,
   "metadata": {
    "colab": {
     "base_uri": "https://localhost:8080/",
     "height": 313
    },
    "executionInfo": {
     "elapsed": 7,
     "status": "ok",
     "timestamp": 1741615322718,
     "user": {
      "displayName": "Prathmesh Gumal",
      "userId": "02913441102213852222"
     },
     "user_tz": -330
    },
    "id": "thaGOTBrWmBm",
    "outputId": "e7bc0a81-bb61-4288-87c7-e0ee0cbe7c90"
   },
   "outputs": [
    {
     "data": {
      "text/html": [
       "<div>\n",
       "<style scoped>\n",
       "    .dataframe tbody tr th:only-of-type {\n",
       "        vertical-align: middle;\n",
       "    }\n",
       "\n",
       "    .dataframe tbody tr th {\n",
       "        vertical-align: top;\n",
       "    }\n",
       "\n",
       "    .dataframe thead th {\n",
       "        text-align: right;\n",
       "    }\n",
       "</style>\n",
       "<table border=\"1\" class=\"dataframe\">\n",
       "  <thead>\n",
       "    <tr style=\"text-align: right;\">\n",
       "      <th></th>\n",
       "      <th>date</th>\n",
       "      <th>product_id</th>\n",
       "      <th>city_id</th>\n",
       "      <th>orders</th>\n",
       "      <th>date_year</th>\n",
       "      <th>date_month_no</th>\n",
       "      <th>date_month_name</th>\n",
       "      <th>date_day</th>\n",
       "    </tr>\n",
       "  </thead>\n",
       "  <tbody>\n",
       "    <tr>\n",
       "      <th>0</th>\n",
       "      <td>2019-12-10</td>\n",
       "      <td>5628</td>\n",
       "      <td>25</td>\n",
       "      <td>3</td>\n",
       "      <td>2019</td>\n",
       "      <td>12</td>\n",
       "      <td>December</td>\n",
       "      <td>1</td>\n",
       "    </tr>\n",
       "    <tr>\n",
       "      <th>1</th>\n",
       "      <td>2018-08-15</td>\n",
       "      <td>3646</td>\n",
       "      <td>14</td>\n",
       "      <td>157</td>\n",
       "      <td>2018</td>\n",
       "      <td>8</td>\n",
       "      <td>August</td>\n",
       "      <td>2</td>\n",
       "    </tr>\n",
       "    <tr>\n",
       "      <th>2</th>\n",
       "      <td>2018-10-23</td>\n",
       "      <td>1859</td>\n",
       "      <td>25</td>\n",
       "      <td>1</td>\n",
       "      <td>2018</td>\n",
       "      <td>10</td>\n",
       "      <td>October</td>\n",
       "      <td>1</td>\n",
       "    </tr>\n",
       "    <tr>\n",
       "      <th>3</th>\n",
       "      <td>2019-08-17</td>\n",
       "      <td>7292</td>\n",
       "      <td>25</td>\n",
       "      <td>1</td>\n",
       "      <td>2019</td>\n",
       "      <td>8</td>\n",
       "      <td>August</td>\n",
       "      <td>5</td>\n",
       "    </tr>\n",
       "    <tr>\n",
       "      <th>4</th>\n",
       "      <td>2019-01-06</td>\n",
       "      <td>4344</td>\n",
       "      <td>25</td>\n",
       "      <td>3</td>\n",
       "      <td>2019</td>\n",
       "      <td>1</td>\n",
       "      <td>January</td>\n",
       "      <td>6</td>\n",
       "    </tr>\n",
       "  </tbody>\n",
       "</table>\n",
       "</div>"
      ],
      "text/plain": [
       "        date  product_id  city_id  orders  date_year  date_month_no  \\\n",
       "0 2019-12-10        5628       25       3       2019             12   \n",
       "1 2018-08-15        3646       14     157       2018              8   \n",
       "2 2018-10-23        1859       25       1       2018             10   \n",
       "3 2019-08-17        7292       25       1       2019              8   \n",
       "4 2019-01-06        4344       25       3       2019              1   \n",
       "\n",
       "  date_month_name  date_day  \n",
       "0        December         1  \n",
       "1          August         2  \n",
       "2         October         1  \n",
       "3          August         5  \n",
       "4         January         6  "
      ]
     },
     "execution_count": 13,
     "metadata": {},
     "output_type": "execute_result"
    }
   ],
   "source": [
    "# extracting day of the week\n",
    "date['date_day'] = date['date'].dt.dayofweek\n",
    "date.head()"
   ]
  },
  {
   "cell_type": "code",
   "execution_count": 14,
   "metadata": {
    "colab": {
     "base_uri": "https://localhost:8080/",
     "height": 293
    },
    "executionInfo": {
     "elapsed": 6,
     "status": "ok",
     "timestamp": 1741615429464,
     "user": {
      "displayName": "Prathmesh Gumal",
      "userId": "02913441102213852222"
     },
     "user_tz": -330
    },
    "id": "5TTEp8INXNB4",
    "outputId": "aba83d17-29b8-419b-a961-ed7dee9881a7"
   },
   "outputs": [
    {
     "data": {
      "text/html": [
       "<div>\n",
       "<style scoped>\n",
       "    .dataframe tbody tr th:only-of-type {\n",
       "        vertical-align: middle;\n",
       "    }\n",
       "\n",
       "    .dataframe tbody tr th {\n",
       "        vertical-align: top;\n",
       "    }\n",
       "\n",
       "    .dataframe thead th {\n",
       "        text-align: right;\n",
       "    }\n",
       "</style>\n",
       "<table border=\"1\" class=\"dataframe\">\n",
       "  <thead>\n",
       "    <tr style=\"text-align: right;\">\n",
       "      <th></th>\n",
       "      <th>date</th>\n",
       "      <th>date_year</th>\n",
       "      <th>date_month_no</th>\n",
       "      <th>date_month_name</th>\n",
       "      <th>date_day</th>\n",
       "      <th>date_dow_name</th>\n",
       "    </tr>\n",
       "  </thead>\n",
       "  <tbody>\n",
       "    <tr>\n",
       "      <th>0</th>\n",
       "      <td>2019-12-10</td>\n",
       "      <td>2019</td>\n",
       "      <td>12</td>\n",
       "      <td>December</td>\n",
       "      <td>1</td>\n",
       "      <td>Tuesday</td>\n",
       "    </tr>\n",
       "    <tr>\n",
       "      <th>1</th>\n",
       "      <td>2018-08-15</td>\n",
       "      <td>2018</td>\n",
       "      <td>8</td>\n",
       "      <td>August</td>\n",
       "      <td>2</td>\n",
       "      <td>Wednesday</td>\n",
       "    </tr>\n",
       "    <tr>\n",
       "      <th>2</th>\n",
       "      <td>2018-10-23</td>\n",
       "      <td>2018</td>\n",
       "      <td>10</td>\n",
       "      <td>October</td>\n",
       "      <td>1</td>\n",
       "      <td>Tuesday</td>\n",
       "    </tr>\n",
       "    <tr>\n",
       "      <th>3</th>\n",
       "      <td>2019-08-17</td>\n",
       "      <td>2019</td>\n",
       "      <td>8</td>\n",
       "      <td>August</td>\n",
       "      <td>5</td>\n",
       "      <td>Saturday</td>\n",
       "    </tr>\n",
       "    <tr>\n",
       "      <th>4</th>\n",
       "      <td>2019-01-06</td>\n",
       "      <td>2019</td>\n",
       "      <td>1</td>\n",
       "      <td>January</td>\n",
       "      <td>6</td>\n",
       "      <td>Sunday</td>\n",
       "    </tr>\n",
       "  </tbody>\n",
       "</table>\n",
       "</div>"
      ],
      "text/plain": [
       "        date  date_year  date_month_no date_month_name  date_day date_dow_name\n",
       "0 2019-12-10       2019             12        December         1       Tuesday\n",
       "1 2018-08-15       2018              8          August         2     Wednesday\n",
       "2 2018-10-23       2018             10         October         1       Tuesday\n",
       "3 2019-08-17       2019              8          August         5      Saturday\n",
       "4 2019-01-06       2019              1         January         6        Sunday"
      ]
     },
     "execution_count": 14,
     "metadata": {},
     "output_type": "execute_result"
    }
   ],
   "source": [
    "# extracting day of the week name\n",
    "date['date_dow_name'] = date['date'].dt.day_name()\n",
    "date.drop(columns=['product_id','city_id','orders']).head()"
   ]
  },
  {
   "cell_type": "code",
   "execution_count": 15,
   "metadata": {
    "colab": {
     "base_uri": "https://localhost:8080/",
     "height": 313
    },
    "executionInfo": {
     "elapsed": 5,
     "status": "ok",
     "timestamp": 1741615468082,
     "user": {
      "displayName": "Prathmesh Gumal",
      "userId": "02913441102213852222"
     },
     "user_tz": -330
    },
    "id": "-92R9WrzXnKp",
    "outputId": "1e673377-04ba-4ded-95d1-f77c94b21e56"
   },
   "outputs": [
    {
     "data": {
      "text/html": [
       "<div>\n",
       "<style scoped>\n",
       "    .dataframe tbody tr th:only-of-type {\n",
       "        vertical-align: middle;\n",
       "    }\n",
       "\n",
       "    .dataframe tbody tr th {\n",
       "        vertical-align: top;\n",
       "    }\n",
       "\n",
       "    .dataframe thead th {\n",
       "        text-align: right;\n",
       "    }\n",
       "</style>\n",
       "<table border=\"1\" class=\"dataframe\">\n",
       "  <thead>\n",
       "    <tr style=\"text-align: right;\">\n",
       "      <th></th>\n",
       "      <th>date</th>\n",
       "      <th>date_year</th>\n",
       "      <th>date_month_no</th>\n",
       "      <th>date_month_name</th>\n",
       "      <th>date_day</th>\n",
       "      <th>date_dow_name</th>\n",
       "      <th>date_is_weekend</th>\n",
       "    </tr>\n",
       "  </thead>\n",
       "  <tbody>\n",
       "    <tr>\n",
       "      <th>0</th>\n",
       "      <td>2019-12-10</td>\n",
       "      <td>2019</td>\n",
       "      <td>12</td>\n",
       "      <td>December</td>\n",
       "      <td>1</td>\n",
       "      <td>Tuesday</td>\n",
       "      <td>0</td>\n",
       "    </tr>\n",
       "    <tr>\n",
       "      <th>1</th>\n",
       "      <td>2018-08-15</td>\n",
       "      <td>2018</td>\n",
       "      <td>8</td>\n",
       "      <td>August</td>\n",
       "      <td>2</td>\n",
       "      <td>Wednesday</td>\n",
       "      <td>0</td>\n",
       "    </tr>\n",
       "    <tr>\n",
       "      <th>2</th>\n",
       "      <td>2018-10-23</td>\n",
       "      <td>2018</td>\n",
       "      <td>10</td>\n",
       "      <td>October</td>\n",
       "      <td>1</td>\n",
       "      <td>Tuesday</td>\n",
       "      <td>0</td>\n",
       "    </tr>\n",
       "    <tr>\n",
       "      <th>3</th>\n",
       "      <td>2019-08-17</td>\n",
       "      <td>2019</td>\n",
       "      <td>8</td>\n",
       "      <td>August</td>\n",
       "      <td>5</td>\n",
       "      <td>Saturday</td>\n",
       "      <td>1</td>\n",
       "    </tr>\n",
       "    <tr>\n",
       "      <th>4</th>\n",
       "      <td>2019-01-06</td>\n",
       "      <td>2019</td>\n",
       "      <td>1</td>\n",
       "      <td>January</td>\n",
       "      <td>6</td>\n",
       "      <td>Sunday</td>\n",
       "      <td>1</td>\n",
       "    </tr>\n",
       "  </tbody>\n",
       "</table>\n",
       "</div>"
      ],
      "text/plain": [
       "        date  date_year  date_month_no date_month_name  date_day  \\\n",
       "0 2019-12-10       2019             12        December         1   \n",
       "1 2018-08-15       2018              8          August         2   \n",
       "2 2018-10-23       2018             10         October         1   \n",
       "3 2019-08-17       2019              8          August         5   \n",
       "4 2019-01-06       2019              1         January         6   \n",
       "\n",
       "  date_dow_name  date_is_weekend  \n",
       "0       Tuesday                0  \n",
       "1     Wednesday                0  \n",
       "2       Tuesday                0  \n",
       "3      Saturday                1  \n",
       "4        Sunday                1  "
      ]
     },
     "execution_count": 15,
     "metadata": {},
     "output_type": "execute_result"
    }
   ],
   "source": [
    "# is weekend ?\n",
    "date['date_is_weekend'] = np.where(date['date_dow_name'].isin(['Sunday','Saturday']),1,0)\n",
    "date.drop(columns=['product_id','city_id','orders']).head()"
   ]
  },
  {
   "cell_type": "code",
   "execution_count": 16,
   "metadata": {
    "colab": {
     "base_uri": "https://localhost:8080/"
    },
    "executionInfo": {
     "elapsed": 2,
     "status": "ok",
     "timestamp": 1741615831203,
     "user": {
      "displayName": "Prathmesh Gumal",
      "userId": "02913441102213852222"
     },
     "user_tz": -330
    },
    "id": "ap-GbmDAXwhz",
    "outputId": "0ac1a65d-13c5-4197-ecb1-20b98b0cc1ea"
   },
   "outputs": [
    {
     "data": {
      "text/plain": [
       "datetime.datetime(2025, 4, 24, 22, 0, 57, 48203)"
      ]
     },
     "execution_count": 16,
     "metadata": {},
     "output_type": "execute_result"
    }
   ],
   "source": [
    "# extract time elasped between dates\n",
    "\n",
    "today = datetime.datetime.today()\n",
    "today"
   ]
  },
  {
   "cell_type": "code",
   "execution_count": 17,
   "metadata": {
    "colab": {
     "base_uri": "https://localhost:8080/",
     "height": 458
    },
    "executionInfo": {
     "elapsed": 8,
     "status": "ok",
     "timestamp": 1741615860421,
     "user": {
      "displayName": "Prathmesh Gumal",
      "userId": "02913441102213852222"
     },
     "user_tz": -330
    },
    "id": "LUhNtSO4ZDlP",
    "outputId": "b45f9eb5-fd75-43aa-b13d-70c6534610e9"
   },
   "outputs": [
    {
     "data": {
      "text/plain": [
       "0     1962 days 22:00:57.048203\n",
       "1     2444 days 22:00:57.048203\n",
       "2     2375 days 22:00:57.048203\n",
       "3     2077 days 22:00:57.048203\n",
       "4     2300 days 22:00:57.048203\n",
       "                 ...           \n",
       "995   2390 days 22:00:57.048203\n",
       "996   2331 days 22:00:57.048203\n",
       "997   2179 days 22:00:57.048203\n",
       "998   2244 days 22:00:57.048203\n",
       "999   2018 days 22:00:57.048203\n",
       "Name: date, Length: 1000, dtype: timedelta64[ns]"
      ]
     },
     "execution_count": 17,
     "metadata": {},
     "output_type": "execute_result"
    }
   ],
   "source": [
    "today-date['date']"
   ]
  },
  {
   "cell_type": "code",
   "execution_count": null,
   "metadata": {
    "id": "72v6MCcoZQaH"
   },
   "outputs": [],
   "source": []
  }
 ],
 "metadata": {
  "colab": {
   "authorship_tag": "ABX9TyOjxP0larCBAgjFVGW7M8NP",
   "provenance": []
  },
  "kernelspec": {
   "display_name": "Python 3",
   "name": "python3"
  },
  "language_info": {
   "codemirror_mode": {
    "name": "ipython",
    "version": 3
   },
   "file_extension": ".py",
   "mimetype": "text/x-python",
   "name": "python",
   "nbconvert_exporter": "python",
   "pygments_lexer": "ipython3",
   "version": "3.13.3"
  }
 },
 "nbformat": 4,
 "nbformat_minor": 0
}
