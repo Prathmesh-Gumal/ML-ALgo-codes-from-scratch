{
 "cells": [
  {
   "cell_type": "code",
   "execution_count": 1,
   "metadata": {
    "executionInfo": {
     "elapsed": 415,
     "status": "ok",
     "timestamp": 1741953670476,
     "user": {
      "displayName": "Prathmesh Gumal",
      "userId": "02913441102213852222"
     },
     "user_tz": -330
    },
    "id": "r0uFPBrNhOiA"
   },
   "outputs": [],
   "source": [
    "import numpy as np\n",
    "import pandas as pd\n",
    "\n",
    "# creating a dataframe with 3 features\n",
    "\n",
    "np.random.seed(23)\n",
    "\n",
    "mu_vec1 = np.array([0, 0, 0])\n",
    "cov_mat1 = np.array([[1, 0, 0], [0, 1, 0], [0, 0, 1]])\n",
    "class1_sample = np.random.multivariate_normal(mu_vec1, cov_mat1, 20)\n",
    "\n",
    "df = pd.DataFrame(class1_sample, columns=['feature1', 'feature2', 'feature3'])\n",
    "df['target'] = 1\n",
    "\n",
    "mu_vec2 = np.array([1, 1, 1])\n",
    "cov_mat2 = np.array([[1, 0, 0], [0, 1, 0], [0, 0, 1]])\n",
    "class2_sample = np.random.multivariate_normal(mu_vec2, cov_mat2, 20)\n",
    "\n",
    "df1 = pd.DataFrame(class2_sample, columns=['feature1', 'feature2', 'feature3'])\n",
    "\n",
    "df1['target'] = 0\n",
    "\n",
    "# Use pd.concat instead of append\n",
    "df = pd.concat([df, df1], ignore_index=True)\n",
    "\n",
    "df = df.sample(40)"
   ]
  },
  {
   "cell_type": "code",
   "execution_count": 2,
   "metadata": {
    "colab": {
     "base_uri": "https://localhost:8080/",
     "height": 206
    },
    "executionInfo": {
     "elapsed": 17,
     "status": "ok",
     "timestamp": 1741953690381,
     "user": {
      "displayName": "Prathmesh Gumal",
      "userId": "02913441102213852222"
     },
     "user_tz": -330
    },
    "id": "ocdzsLJXhuof",
    "outputId": "089da2ee-4417-41fe-824f-19557c2dd0ad"
   },
   "outputs": [
    {
     "data": {
      "text/html": [
       "<div>\n",
       "<style scoped>\n",
       "    .dataframe tbody tr th:only-of-type {\n",
       "        vertical-align: middle;\n",
       "    }\n",
       "\n",
       "    .dataframe tbody tr th {\n",
       "        vertical-align: top;\n",
       "    }\n",
       "\n",
       "    .dataframe thead th {\n",
       "        text-align: right;\n",
       "    }\n",
       "</style>\n",
       "<table border=\"1\" class=\"dataframe\">\n",
       "  <thead>\n",
       "    <tr style=\"text-align: right;\">\n",
       "      <th></th>\n",
       "      <th>feature1</th>\n",
       "      <th>feature2</th>\n",
       "      <th>feature3</th>\n",
       "      <th>target</th>\n",
       "    </tr>\n",
       "  </thead>\n",
       "  <tbody>\n",
       "    <tr>\n",
       "      <th>2</th>\n",
       "      <td>-0.367548</td>\n",
       "      <td>-1.137460</td>\n",
       "      <td>-1.322148</td>\n",
       "      <td>1</td>\n",
       "    </tr>\n",
       "    <tr>\n",
       "      <th>34</th>\n",
       "      <td>0.177061</td>\n",
       "      <td>-0.598109</td>\n",
       "      <td>1.226512</td>\n",
       "      <td>0</td>\n",
       "    </tr>\n",
       "    <tr>\n",
       "      <th>14</th>\n",
       "      <td>0.420623</td>\n",
       "      <td>0.411620</td>\n",
       "      <td>-0.071324</td>\n",
       "      <td>1</td>\n",
       "    </tr>\n",
       "    <tr>\n",
       "      <th>11</th>\n",
       "      <td>1.968435</td>\n",
       "      <td>-0.547788</td>\n",
       "      <td>-0.679418</td>\n",
       "      <td>1</td>\n",
       "    </tr>\n",
       "    <tr>\n",
       "      <th>12</th>\n",
       "      <td>-2.506230</td>\n",
       "      <td>0.146960</td>\n",
       "      <td>0.606195</td>\n",
       "      <td>1</td>\n",
       "    </tr>\n",
       "  </tbody>\n",
       "</table>\n",
       "</div>"
      ],
      "text/plain": [
       "    feature1  feature2  feature3  target\n",
       "2  -0.367548 -1.137460 -1.322148       1\n",
       "34  0.177061 -0.598109  1.226512       0\n",
       "14  0.420623  0.411620 -0.071324       1\n",
       "11  1.968435 -0.547788 -0.679418       1\n",
       "12 -2.506230  0.146960  0.606195       1"
      ]
     },
     "execution_count": 2,
     "metadata": {},
     "output_type": "execute_result"
    }
   ],
   "source": [
    "df.head(5)"
   ]
  },
  {
   "cell_type": "code",
   "execution_count": 3,
   "metadata": {
    "colab": {
     "base_uri": "https://localhost:8080/",
     "height": 542
    },
    "executionInfo": {
     "elapsed": 5475,
     "status": "ok",
     "timestamp": 1741953747931,
     "user": {
      "displayName": "Prathmesh Gumal",
      "userId": "02913441102213852222"
     },
     "user_tz": -330
    },
    "id": "4kJYX3p9h-bO",
    "outputId": "ef3f0fe3-360f-43c4-88fd-e7f9db67dd10"
   },
   "outputs": [
    {
     "data": {
      "application/vnd.plotly.v1+json": {
       "config": {
        "plotlyServerURL": "https://plot.ly"
       },
       "data": [
        {
         "hovertemplate": "color=1<br>feature1=%{x}<br>feature2=%{y}<br>feature3=%{z}<extra></extra>",
         "legendgroup": "1",
         "marker": {
          "color": "#636efa",
          "line": {
           "color": "DarkSlateGrey",
           "width": 2
          },
          "size": 12,
          "symbol": "circle"
         },
         "mode": "markers",
         "name": "1",
         "scene": "scene",
         "showlegend": true,
         "type": "scatter3d",
         "x": {
          "bdata": "NH+biOiF179B9VhOe+vaP3UXmWq1fv8/gcL+esIMBMAXRxW6GKDUP11q0wc3OdW/R4sbVvdX5T8F5CzQuCjwv+sbCD6S3M4/HwcBCphDp78gAM0WKsPvv0vGA3ob79q/FtlvUTVb7j/XaoSQJqX2P5CehjvXufA/SKJlv7lo/b+RTVNTjVbIPzzGqU5vFJe/FZ26DqZG9D+1VBZ/K1v8Pw==",
          "dtype": "f8"
         },
         "y": {
          "bdata": "kOrC7ggz8r8NGQXo+VfaP0/7V7d6h+G/Mv22+5nPwj+WJZ3hROWuP8P4mhNBHvq/zF70i75umj/LdDWiaEXcPxUomUT1eu6/5LTNDHin8D8G31OX/6bEv1TYPOzjqeG/nSxRaBh05j/48Uv+IkvdP876Y3GfOOE/EH4lg2QK7r/J0S/2bWPgP+XL4+MgfYs/kwOAlKA5xj/B9siixDzWvw==",
          "dtype": "f8"
         },
         "z": {
          "bdata": "Gz4gKYQn9b9TmEbkSEKyv6yJIWPLveW/lWHPFfRl4z+YNgih+LHwvx6X3lDIz+M/HZiMG0Li6L8QP+ws4Q/yP2vU9WYwccG/jpcIDqkSuL9pID6QFhTzPxFoDbg/AL+/vo3m5jrR8L8jBoJu81LnP0CS5Erg/Ok//9dsBenVyb9KBECiQNbAP9Dcr7RC8+0/JVQemXOS87/dI2zIyXHlPw==",
          "dtype": "f8"
         }
        },
        {
         "hovertemplate": "color=0<br>feature1=%{x}<br>feature2=%{y}<br>feature3=%{z}<extra></extra>",
         "legendgroup": "0",
         "marker": {
          "color": "#EF553B",
          "line": {
           "color": "DarkSlateGrey",
           "width": 2
          },
          "size": 12,
          "symbol": "circle"
         },
         "mode": "markers",
         "name": "0",
         "scene": "scene",
         "showlegend": true,
         "type": "scatter3d",
         "x": {
          "bdata": "cB4YBfKpxj8RrEKwX832P4T5z06iywFAJPjdmuMk57+qqPBTR5YGQOpqNeXjPPa/BHys5KCh2D80XStGa9T6P5ZqfoubAfc/DnBqhZWb0j++dTctYWvnP54l0C4ecvC/dCFb4kF16L/krMgCphYAQEt3ZcvYw+w/fDUzM+Yp8D9ugqpUBAP0PzxDN72JMco/UuE+sp725z+n98TRC77zPw==",
          "dtype": "f8"
         },
         "y": {
          "bdata": "JvSht7Uj47+/Yffh9A73P0iE1ULHfc0/q4tiVFFh9z+EkICuok3Vv05ZL8vRVeU/284cMT4t9T+420q0AMAQQOtJk293mPE/XGl6NkO+6z9Y7pls347gP7G/xvtHGvI/exh6a2YQ+T8kDSUhZrz+P0JIgVXG5ts/dBPrsVkB9z+IXM88bNvHPwAQxuXDn4e/1LzUyLC+BEBwf5DSqAWrPw==",
          "dtype": "f8"
         },
         "z": {
          "bdata": "y9Aoxsqf8z/c2FLsJV7HP0lFrBXsEvM/UBJx45jatb/fg4yRYBkFQLow6G4Lf/U/kKATDONqur9AVntK5J+0v0hV1DvnC/E/afkQ3M9x7z8pJ+dW9vQBQNIB1Gds0wRAIubuANbH+D/8DY/N93YHQFzxwSRXReo/eMwFHk+fAkAgHwHaCkL7P4BbuR3MNAlA+CcZWau78j+AkGAiqr3Qvw==",
          "dtype": "f8"
         }
        }
       ],
       "layout": {
        "legend": {
         "title": {
          "text": "color"
         },
         "tracegroupgap": 0
        },
        "margin": {
         "t": 60
        },
        "scene": {
         "domain": {
          "x": [
           0,
           1
          ],
          "y": [
           0,
           1
          ]
         },
         "xaxis": {
          "title": {
           "text": "feature1"
          }
         },
         "yaxis": {
          "title": {
           "text": "feature2"
          }
         },
         "zaxis": {
          "title": {
           "text": "feature3"
          }
         }
        },
        "template": {
         "data": {
          "bar": [
           {
            "error_x": {
             "color": "#2a3f5f"
            },
            "error_y": {
             "color": "#2a3f5f"
            },
            "marker": {
             "line": {
              "color": "#E5ECF6",
              "width": 0.5
             },
             "pattern": {
              "fillmode": "overlay",
              "size": 10,
              "solidity": 0.2
             }
            },
            "type": "bar"
           }
          ],
          "barpolar": [
           {
            "marker": {
             "line": {
              "color": "#E5ECF6",
              "width": 0.5
             },
             "pattern": {
              "fillmode": "overlay",
              "size": 10,
              "solidity": 0.2
             }
            },
            "type": "barpolar"
           }
          ],
          "carpet": [
           {
            "aaxis": {
             "endlinecolor": "#2a3f5f",
             "gridcolor": "white",
             "linecolor": "white",
             "minorgridcolor": "white",
             "startlinecolor": "#2a3f5f"
            },
            "baxis": {
             "endlinecolor": "#2a3f5f",
             "gridcolor": "white",
             "linecolor": "white",
             "minorgridcolor": "white",
             "startlinecolor": "#2a3f5f"
            },
            "type": "carpet"
           }
          ],
          "choropleth": [
           {
            "colorbar": {
             "outlinewidth": 0,
             "ticks": ""
            },
            "type": "choropleth"
           }
          ],
          "contour": [
           {
            "colorbar": {
             "outlinewidth": 0,
             "ticks": ""
            },
            "colorscale": [
             [
              0,
              "#0d0887"
             ],
             [
              0.1111111111111111,
              "#46039f"
             ],
             [
              0.2222222222222222,
              "#7201a8"
             ],
             [
              0.3333333333333333,
              "#9c179e"
             ],
             [
              0.4444444444444444,
              "#bd3786"
             ],
             [
              0.5555555555555556,
              "#d8576b"
             ],
             [
              0.6666666666666666,
              "#ed7953"
             ],
             [
              0.7777777777777778,
              "#fb9f3a"
             ],
             [
              0.8888888888888888,
              "#fdca26"
             ],
             [
              1,
              "#f0f921"
             ]
            ],
            "type": "contour"
           }
          ],
          "contourcarpet": [
           {
            "colorbar": {
             "outlinewidth": 0,
             "ticks": ""
            },
            "type": "contourcarpet"
           }
          ],
          "heatmap": [
           {
            "colorbar": {
             "outlinewidth": 0,
             "ticks": ""
            },
            "colorscale": [
             [
              0,
              "#0d0887"
             ],
             [
              0.1111111111111111,
              "#46039f"
             ],
             [
              0.2222222222222222,
              "#7201a8"
             ],
             [
              0.3333333333333333,
              "#9c179e"
             ],
             [
              0.4444444444444444,
              "#bd3786"
             ],
             [
              0.5555555555555556,
              "#d8576b"
             ],
             [
              0.6666666666666666,
              "#ed7953"
             ],
             [
              0.7777777777777778,
              "#fb9f3a"
             ],
             [
              0.8888888888888888,
              "#fdca26"
             ],
             [
              1,
              "#f0f921"
             ]
            ],
            "type": "heatmap"
           }
          ],
          "histogram": [
           {
            "marker": {
             "pattern": {
              "fillmode": "overlay",
              "size": 10,
              "solidity": 0.2
             }
            },
            "type": "histogram"
           }
          ],
          "histogram2d": [
           {
            "colorbar": {
             "outlinewidth": 0,
             "ticks": ""
            },
            "colorscale": [
             [
              0,
              "#0d0887"
             ],
             [
              0.1111111111111111,
              "#46039f"
             ],
             [
              0.2222222222222222,
              "#7201a8"
             ],
             [
              0.3333333333333333,
              "#9c179e"
             ],
             [
              0.4444444444444444,
              "#bd3786"
             ],
             [
              0.5555555555555556,
              "#d8576b"
             ],
             [
              0.6666666666666666,
              "#ed7953"
             ],
             [
              0.7777777777777778,
              "#fb9f3a"
             ],
             [
              0.8888888888888888,
              "#fdca26"
             ],
             [
              1,
              "#f0f921"
             ]
            ],
            "type": "histogram2d"
           }
          ],
          "histogram2dcontour": [
           {
            "colorbar": {
             "outlinewidth": 0,
             "ticks": ""
            },
            "colorscale": [
             [
              0,
              "#0d0887"
             ],
             [
              0.1111111111111111,
              "#46039f"
             ],
             [
              0.2222222222222222,
              "#7201a8"
             ],
             [
              0.3333333333333333,
              "#9c179e"
             ],
             [
              0.4444444444444444,
              "#bd3786"
             ],
             [
              0.5555555555555556,
              "#d8576b"
             ],
             [
              0.6666666666666666,
              "#ed7953"
             ],
             [
              0.7777777777777778,
              "#fb9f3a"
             ],
             [
              0.8888888888888888,
              "#fdca26"
             ],
             [
              1,
              "#f0f921"
             ]
            ],
            "type": "histogram2dcontour"
           }
          ],
          "mesh3d": [
           {
            "colorbar": {
             "outlinewidth": 0,
             "ticks": ""
            },
            "type": "mesh3d"
           }
          ],
          "parcoords": [
           {
            "line": {
             "colorbar": {
              "outlinewidth": 0,
              "ticks": ""
             }
            },
            "type": "parcoords"
           }
          ],
          "pie": [
           {
            "automargin": true,
            "type": "pie"
           }
          ],
          "scatter": [
           {
            "fillpattern": {
             "fillmode": "overlay",
             "size": 10,
             "solidity": 0.2
            },
            "type": "scatter"
           }
          ],
          "scatter3d": [
           {
            "line": {
             "colorbar": {
              "outlinewidth": 0,
              "ticks": ""
             }
            },
            "marker": {
             "colorbar": {
              "outlinewidth": 0,
              "ticks": ""
             }
            },
            "type": "scatter3d"
           }
          ],
          "scattercarpet": [
           {
            "marker": {
             "colorbar": {
              "outlinewidth": 0,
              "ticks": ""
             }
            },
            "type": "scattercarpet"
           }
          ],
          "scattergeo": [
           {
            "marker": {
             "colorbar": {
              "outlinewidth": 0,
              "ticks": ""
             }
            },
            "type": "scattergeo"
           }
          ],
          "scattergl": [
           {
            "marker": {
             "colorbar": {
              "outlinewidth": 0,
              "ticks": ""
             }
            },
            "type": "scattergl"
           }
          ],
          "scattermap": [
           {
            "marker": {
             "colorbar": {
              "outlinewidth": 0,
              "ticks": ""
             }
            },
            "type": "scattermap"
           }
          ],
          "scattermapbox": [
           {
            "marker": {
             "colorbar": {
              "outlinewidth": 0,
              "ticks": ""
             }
            },
            "type": "scattermapbox"
           }
          ],
          "scatterpolar": [
           {
            "marker": {
             "colorbar": {
              "outlinewidth": 0,
              "ticks": ""
             }
            },
            "type": "scatterpolar"
           }
          ],
          "scatterpolargl": [
           {
            "marker": {
             "colorbar": {
              "outlinewidth": 0,
              "ticks": ""
             }
            },
            "type": "scatterpolargl"
           }
          ],
          "scatterternary": [
           {
            "marker": {
             "colorbar": {
              "outlinewidth": 0,
              "ticks": ""
             }
            },
            "type": "scatterternary"
           }
          ],
          "surface": [
           {
            "colorbar": {
             "outlinewidth": 0,
             "ticks": ""
            },
            "colorscale": [
             [
              0,
              "#0d0887"
             ],
             [
              0.1111111111111111,
              "#46039f"
             ],
             [
              0.2222222222222222,
              "#7201a8"
             ],
             [
              0.3333333333333333,
              "#9c179e"
             ],
             [
              0.4444444444444444,
              "#bd3786"
             ],
             [
              0.5555555555555556,
              "#d8576b"
             ],
             [
              0.6666666666666666,
              "#ed7953"
             ],
             [
              0.7777777777777778,
              "#fb9f3a"
             ],
             [
              0.8888888888888888,
              "#fdca26"
             ],
             [
              1,
              "#f0f921"
             ]
            ],
            "type": "surface"
           }
          ],
          "table": [
           {
            "cells": {
             "fill": {
              "color": "#EBF0F8"
             },
             "line": {
              "color": "white"
             }
            },
            "header": {
             "fill": {
              "color": "#C8D4E3"
             },
             "line": {
              "color": "white"
             }
            },
            "type": "table"
           }
          ]
         },
         "layout": {
          "annotationdefaults": {
           "arrowcolor": "#2a3f5f",
           "arrowhead": 0,
           "arrowwidth": 1
          },
          "autotypenumbers": "strict",
          "coloraxis": {
           "colorbar": {
            "outlinewidth": 0,
            "ticks": ""
           }
          },
          "colorscale": {
           "diverging": [
            [
             0,
             "#8e0152"
            ],
            [
             0.1,
             "#c51b7d"
            ],
            [
             0.2,
             "#de77ae"
            ],
            [
             0.3,
             "#f1b6da"
            ],
            [
             0.4,
             "#fde0ef"
            ],
            [
             0.5,
             "#f7f7f7"
            ],
            [
             0.6,
             "#e6f5d0"
            ],
            [
             0.7,
             "#b8e186"
            ],
            [
             0.8,
             "#7fbc41"
            ],
            [
             0.9,
             "#4d9221"
            ],
            [
             1,
             "#276419"
            ]
           ],
           "sequential": [
            [
             0,
             "#0d0887"
            ],
            [
             0.1111111111111111,
             "#46039f"
            ],
            [
             0.2222222222222222,
             "#7201a8"
            ],
            [
             0.3333333333333333,
             "#9c179e"
            ],
            [
             0.4444444444444444,
             "#bd3786"
            ],
            [
             0.5555555555555556,
             "#d8576b"
            ],
            [
             0.6666666666666666,
             "#ed7953"
            ],
            [
             0.7777777777777778,
             "#fb9f3a"
            ],
            [
             0.8888888888888888,
             "#fdca26"
            ],
            [
             1,
             "#f0f921"
            ]
           ],
           "sequentialminus": [
            [
             0,
             "#0d0887"
            ],
            [
             0.1111111111111111,
             "#46039f"
            ],
            [
             0.2222222222222222,
             "#7201a8"
            ],
            [
             0.3333333333333333,
             "#9c179e"
            ],
            [
             0.4444444444444444,
             "#bd3786"
            ],
            [
             0.5555555555555556,
             "#d8576b"
            ],
            [
             0.6666666666666666,
             "#ed7953"
            ],
            [
             0.7777777777777778,
             "#fb9f3a"
            ],
            [
             0.8888888888888888,
             "#fdca26"
            ],
            [
             1,
             "#f0f921"
            ]
           ]
          },
          "colorway": [
           "#636efa",
           "#EF553B",
           "#00cc96",
           "#ab63fa",
           "#FFA15A",
           "#19d3f3",
           "#FF6692",
           "#B6E880",
           "#FF97FF",
           "#FECB52"
          ],
          "font": {
           "color": "#2a3f5f"
          },
          "geo": {
           "bgcolor": "white",
           "lakecolor": "white",
           "landcolor": "#E5ECF6",
           "showlakes": true,
           "showland": true,
           "subunitcolor": "white"
          },
          "hoverlabel": {
           "align": "left"
          },
          "hovermode": "closest",
          "mapbox": {
           "style": "light"
          },
          "paper_bgcolor": "white",
          "plot_bgcolor": "#E5ECF6",
          "polar": {
           "angularaxis": {
            "gridcolor": "white",
            "linecolor": "white",
            "ticks": ""
           },
           "bgcolor": "#E5ECF6",
           "radialaxis": {
            "gridcolor": "white",
            "linecolor": "white",
            "ticks": ""
           }
          },
          "scene": {
           "xaxis": {
            "backgroundcolor": "#E5ECF6",
            "gridcolor": "white",
            "gridwidth": 2,
            "linecolor": "white",
            "showbackground": true,
            "ticks": "",
            "zerolinecolor": "white"
           },
           "yaxis": {
            "backgroundcolor": "#E5ECF6",
            "gridcolor": "white",
            "gridwidth": 2,
            "linecolor": "white",
            "showbackground": true,
            "ticks": "",
            "zerolinecolor": "white"
           },
           "zaxis": {
            "backgroundcolor": "#E5ECF6",
            "gridcolor": "white",
            "gridwidth": 2,
            "linecolor": "white",
            "showbackground": true,
            "ticks": "",
            "zerolinecolor": "white"
           }
          },
          "shapedefaults": {
           "line": {
            "color": "#2a3f5f"
           }
          },
          "ternary": {
           "aaxis": {
            "gridcolor": "white",
            "linecolor": "white",
            "ticks": ""
           },
           "baxis": {
            "gridcolor": "white",
            "linecolor": "white",
            "ticks": ""
           },
           "bgcolor": "#E5ECF6",
           "caxis": {
            "gridcolor": "white",
            "linecolor": "white",
            "ticks": ""
           }
          },
          "title": {
           "x": 0.05
          },
          "xaxis": {
           "automargin": true,
           "gridcolor": "white",
           "linecolor": "white",
           "ticks": "",
           "title": {
            "standoff": 15
           },
           "zerolinecolor": "white",
           "zerolinewidth": 2
          },
          "yaxis": {
           "automargin": true,
           "gridcolor": "white",
           "linecolor": "white",
           "ticks": "",
           "title": {
            "standoff": 15
           },
           "zerolinecolor": "white",
           "zerolinewidth": 2
          }
         }
        }
       }
      }
     },
     "metadata": {},
     "output_type": "display_data"
    }
   ],
   "source": [
    "import plotly.express as px\n",
    "#y_train_trf = y_train.astype(str)\n",
    "fig = px.scatter_3d(df, x=df['feature1'], y=df['feature2'], z=df['feature3'],\n",
    "              color=df['target'].astype('str'))\n",
    "fig.update_traces(marker=dict(size=12,\n",
    "                              line=dict(width=2,\n",
    "                                        color='DarkSlateGrey')),\n",
    "                  selector=dict(mode='markers'))\n",
    "\n",
    "fig.show()\n"
   ]
  },
  {
   "cell_type": "code",
   "execution_count": 4,
   "metadata": {
    "executionInfo": {
     "elapsed": 446,
     "status": "ok",
     "timestamp": 1741953919412,
     "user": {
      "displayName": "Prathmesh Gumal",
      "userId": "02913441102213852222"
     },
     "user_tz": -330
    },
    "id": "ViJ0VdnNiLIK"
   },
   "outputs": [],
   "source": [
    "# Step1: Applying Standard Scaling\n",
    "from sklearn.preprocessing import StandardScaler\n",
    "\n",
    "scaler = StandardScaler()\n",
    "\n",
    "# Use fit_transform instead of fir_transform\n",
    "df.iloc[:,0:3] = scaler.fit_transform(df.iloc[:,0:3])"
   ]
  },
  {
   "cell_type": "code",
   "execution_count": 5,
   "metadata": {
    "colab": {
     "base_uri": "https://localhost:8080/"
    },
    "executionInfo": {
     "elapsed": 523,
     "status": "ok",
     "timestamp": 1741953960136,
     "user": {
      "displayName": "Prathmesh Gumal",
      "userId": "02913441102213852222"
     },
     "user_tz": -330
    },
    "id": "TT5yOmnHivx1",
    "outputId": "6e28534e-0a8d-44ba-cbd8-3ab8eb4ad65c"
   },
   "outputs": [
    {
     "name": "stdout",
     "output_type": "stream",
     "text": [
      "Covariance Matrix:\n",
      " [[1.02564103 0.20478114 0.080118  ]\n",
      " [0.20478114 1.02564103 0.19838882]\n",
      " [0.080118   0.19838882 1.02564103]]\n"
     ]
    }
   ],
   "source": [
    "# Step 2: Find the Covariance Matrix\n",
    "covariance_matrix = np.cov([df.iloc[:,0],df.iloc[:,1],df.iloc[:,2]])\n",
    "print('Covariance Matrix:\\n', covariance_matrix)"
   ]
  },
  {
   "cell_type": "code",
   "execution_count": 6,
   "metadata": {
    "colab": {
     "base_uri": "https://localhost:8080/"
    },
    "executionInfo": {
     "elapsed": 4,
     "status": "ok",
     "timestamp": 1741954076915,
     "user": {
      "displayName": "Prathmesh Gumal",
      "userId": "02913441102213852222"
     },
     "user_tz": -330
    },
    "id": "FJMgbSHZjAJf",
    "outputId": "68891f86-402f-4625-faf0-e5c9c8057816"
   },
   "outputs": [
    {
     "name": "stdout",
     "output_type": "stream",
     "text": [
      "Eigen Vectors:\n",
      " [[-0.53875915 -0.69363291  0.47813384]\n",
      " [-0.65608325 -0.01057596 -0.75461442]\n",
      " [-0.52848211  0.72025103  0.44938304]] \n",
      "\n",
      "Eigen Values:\n",
      " [1.3536065  0.94557084 0.77774573] \n",
      "\n"
     ]
    }
   ],
   "source": [
    "# Step3: Finding Eigen Values and Eigen Vectors\n",
    "eigen_values, eigen_vectors = np.linalg.eig(covariance_matrix)\n",
    "print('Eigen Vectors:\\n', eigen_vectors, '\\n')\n",
    "print('Eigen Values:\\n',eigen_values,'\\n')"
   ]
  },
  {
   "cell_type": "code",
   "execution_count": 7,
   "metadata": {
    "colab": {
     "base_uri": "https://localhost:8080/",
     "height": 615
    },
    "executionInfo": {
     "elapsed": 1782,
     "status": "ok",
     "timestamp": 1741954245157,
     "user": {
      "displayName": "Prathmesh Gumal",
      "userId": "02913441102213852222"
     },
     "user_tz": -330
    },
    "id": "L1bocv_ljRh0",
    "outputId": "ec0d3393-aeaf-4ded-c7c2-089328525b2e"
   },
   "outputs": [
    {
     "name": "stdout",
     "output_type": "stream",
     "text": [
      "%pylab is deprecated, use %matplotlib inline and import the required libraries.\n",
      "Populating the interactive namespace from numpy and matplotlib\n"
     ]
    },
    {
     "data": {
      "image/png": "[encoded data removed]",
      "text/plain": [
       "<Figure size 700x700 with 1 Axes>"
      ]
     },
     "metadata": {},
     "output_type": "display_data"
    }
   ],
   "source": [
    "%pylab inline\n",
    "\n",
    "import numpy as np\n",
    "import pandas as pd\n",
    "import matplotlib.pyplot as plt\n",
    "from mpl_toolkits.mplot3d import Axes3D\n",
    "from mpl_toolkits.mplot3d import proj3d\n",
    "from matplotlib.patches import FancyArrowPatch\n",
    "\n",
    "\n",
    "class Arrow3D(FancyArrowPatch):\n",
    "    def __init__(self, xs, ys, zs, *args, **kwargs):\n",
    "        FancyArrowPatch.__init__(self, (0, 0), (0, 0), *args, **kwargs)\n",
    "        self._verts3d = xs, ys, zs\n",
    "\n",
    "    def draw(self, renderer):\n",
    "        xs3d, ys3d, zs3d = self._verts3d\n",
    "        # Get the projection matrix from the renderer\n",
    "        M = self.axes.M\n",
    "        # Perform the projection transform\n",
    "        xs, ys, zs = proj3d.proj_transform(xs3d, ys3d, zs3d, M)\n",
    "        self.set_positions((xs[0], ys[0]), (xs[1], ys[1]))\n",
    "        FancyArrowPatch.draw(self, renderer)\n",
    "\n",
    "    def do_3d_projection(self, renderer=None):\n",
    "        xs3d, ys3d, zs3d = self._verts3d\n",
    "        # Get the projection matrix from the axes\n",
    "        M = self.axes.M\n",
    "        # Perform the projection transform\n",
    "        xs, ys, zs = proj3d.proj_transform(xs3d, ys3d, zs3d, M)\n",
    "        self.set_positions((xs[0], ys[0]), (xs[1], ys[1]))\n",
    "        return np.min(zs), np.max(zs)\n",
    "\n",
    "\n",
    "fig = plt.figure(figsize=(7, 7))\n",
    "ax = fig.add_subplot(111, projection='3d')\n",
    "\n",
    "ax.plot(\n",
    "    df['feature1'],\n",
    "    df['feature2'],\n",
    "    df['feature3'],\n",
    "    'o',\n",
    "    markersize=8,\n",
    "    color='blue',\n",
    "    alpha=0.2,\n",
    ")\n",
    "ax.plot(\n",
    "    [df['feature1'].mean()],\n",
    "    [df['feature2'].mean()],\n",
    "    [df['feature3'].mean()],\n",
    "    'o',\n",
    "    markersize=10,\n",
    "    color='red',\n",
    "    alpha=0.5,\n",
    ")\n",
    "for v in eigen_vectors.T:\n",
    "    a = Arrow3D(\n",
    "        [df['feature1'].mean(), v[0]],\n",
    "        [df['feature2'].mean(), v[1]],\n",
    "        [df['feature3'].mean(), v[2]],\n",
    "        mutation_scale=20,\n",
    "        lw=3,\n",
    "        arrowstyle=\"-|>\",\n",
    "        color=\"r\",\n",
    "    )\n",
    "    ax.add_artist(a)\n",
    "ax.set_xlabel('x_values')\n",
    "ax.set_ylabel('y_values')\n",
    "ax.set_zlabel('z_values')\n",
    "\n",
    "plt.title('Eigenvectors')\n",
    "\n",
    "plt.show()"
   ]
  },
  {
   "cell_type": "code",
   "execution_count": 8,
   "metadata": {
    "colab": {
     "base_uri": "https://localhost:8080/"
    },
    "executionInfo": {
     "elapsed": 6,
     "status": "ok",
     "timestamp": 1741954277981,
     "user": {
      "displayName": "Prathmesh Gumal",
      "userId": "02913441102213852222"
     },
     "user_tz": -330
    },
    "id": "1AGnFNzIjn2a",
    "outputId": "678883a6-977a-4e33-db82-f6df4ba61ba5"
   },
   "outputs": [
    {
     "data": {
      "text/plain": [
       "array([[-0.53875915, -0.69363291,  0.47813384],\n",
       "       [-0.65608325, -0.01057596, -0.75461442]])"
      ]
     },
     "execution_count": 8,
     "metadata": {},
     "output_type": "execute_result"
    }
   ],
   "source": [
    "pc = eigen_vectors[0:2]\n",
    "pc"
   ]
  },
  {
   "cell_type": "code",
   "execution_count": 9,
   "metadata": {
    "colab": {
     "base_uri": "https://localhost:8080/",
     "height": 206
    },
    "executionInfo": {
     "elapsed": 10,
     "status": "ok",
     "timestamp": 1741954307101,
     "user": {
      "displayName": "Prathmesh Gumal",
      "userId": "02913441102213852222"
     },
     "user_tz": -330
    },
    "id": "F1iQWGGskN3J",
    "outputId": "7ed3db96-9475-42d8-ff29-a973735b21b2"
   },
   "outputs": [
    {
     "data": {
      "text/html": [
       "<div>\n",
       "<style scoped>\n",
       "    .dataframe tbody tr th:only-of-type {\n",
       "        vertical-align: middle;\n",
       "    }\n",
       "\n",
       "    .dataframe tbody tr th {\n",
       "        vertical-align: top;\n",
       "    }\n",
       "\n",
       "    .dataframe thead th {\n",
       "        text-align: right;\n",
       "    }\n",
       "</style>\n",
       "<table border=\"1\" class=\"dataframe\">\n",
       "  <thead>\n",
       "    <tr style=\"text-align: right;\">\n",
       "      <th></th>\n",
       "      <th>PC1</th>\n",
       "      <th>PC2</th>\n",
       "      <th>target</th>\n",
       "    </tr>\n",
       "  </thead>\n",
       "  <tbody>\n",
       "    <tr>\n",
       "      <th>0</th>\n",
       "      <td>0.599433</td>\n",
       "      <td>1.795862</td>\n",
       "      <td>1</td>\n",
       "    </tr>\n",
       "    <tr>\n",
       "      <th>1</th>\n",
       "      <td>1.056919</td>\n",
       "      <td>-0.212737</td>\n",
       "      <td>0</td>\n",
       "    </tr>\n",
       "    <tr>\n",
       "      <th>2</th>\n",
       "      <td>-0.271876</td>\n",
       "      <td>0.498222</td>\n",
       "      <td>1</td>\n",
       "    </tr>\n",
       "    <tr>\n",
       "      <th>3</th>\n",
       "      <td>-0.621586</td>\n",
       "      <td>0.023110</td>\n",
       "      <td>1</td>\n",
       "    </tr>\n",
       "    <tr>\n",
       "      <th>4</th>\n",
       "      <td>1.567286</td>\n",
       "      <td>1.730967</td>\n",
       "      <td>1</td>\n",
       "    </tr>\n",
       "  </tbody>\n",
       "</table>\n",
       "</div>"
      ],
      "text/plain": [
       "        PC1       PC2  target\n",
       "0  0.599433  1.795862       1\n",
       "1  1.056919 -0.212737       0\n",
       "2 -0.271876  0.498222       1\n",
       "3 -0.621586  0.023110       1\n",
       "4  1.567286  1.730967       1"
      ]
     },
     "execution_count": 9,
     "metadata": {},
     "output_type": "execute_result"
    }
   ],
   "source": [
    "transformed_df = np.dot(df.iloc[:,0:3],pc.T)\n",
    "# 40,3 - 3,2\n",
    "new_df = pd.DataFrame(transformed_df,columns=['PC1','PC2'])\n",
    "new_df['target'] = df['target'].values\n",
    "new_df.head()"
   ]
  },
  {
   "cell_type": "code",
   "execution_count": null,
   "metadata": {
    "id": "GCtEAfEZkU-A"
   },
   "outputs": [],
   "source": []
  }
 ],
 "metadata": {
  "colab": {
   "authorship_tag": "ABX9TyNIs8OUAW2VRPW3l7L/lsnL",
   "provenance": []
  },
  "kernelspec": {
   "display_name": "Python 3",
   "name": "python3"
  },
  "language_info": {
   "codemirror_mode": {
    "name": "ipython",
    "version": 3
   },
   "file_extension": ".py",
   "mimetype": "text/x-python",
   "name": "python",
   "nbconvert_exporter": "python",
   "pygments_lexer": "ipython3",
   "version": "3.13.3"
  }
 },
 "nbformat": 4,
 "nbformat_minor": 0
}
